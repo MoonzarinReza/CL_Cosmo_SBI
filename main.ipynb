{
 "cells": [
  {
   "cell_type": "code",
   "execution_count": null,
   "metadata": {},
   "outputs": [],
   "source": [
    "import numpy as np\n",
    "import yaml_parser as yp\n",
    "from physics import dophysics\n",
    "\n",
    "my_yaml_info=yp.YAMLOperator('config.yaml')\n",
    "yaml_dict=my_yaml_info.parse_yaml()\n",
    "\n",
    "\n",
    "params, halomass, halocount = dophysics(yaml_dict)\n",
    "\n",
    "np.savetxt('parameters.txt', params)\n",
    "np.savetxt('halomass.txt', halomass)\n",
    "np.savetxt('halocount.txt', halocount)"
   ]
  }
 ],
 "metadata": {
  "kernelspec": {
   "display_name": "Python 3",
   "language": "python",
   "name": "python3"
  },
  "language_info": {
   "codemirror_mode": {
    "name": "ipython",
    "version": 3
   },
   "file_extension": ".py",
   "mimetype": "text/x-python",
   "name": "python",
   "nbconvert_exporter": "python",
   "pygments_lexer": "ipython3",
   "version": "3.8.5"
  }
 },
 "nbformat": 4,
 "nbformat_minor": 4
}
